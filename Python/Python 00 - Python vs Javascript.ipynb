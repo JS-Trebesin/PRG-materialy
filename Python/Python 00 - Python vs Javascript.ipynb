{
 "cells": [
  {
   "cell_type": "markdown",
   "metadata": {},
   "source": [
    "# Rozdíly mezi Pythonem a Javascriptem\n",
    "\n",
    "## Odsazování\n",
    "\n",
    "V Pythonu je nezbytné správně odsazovat. Kdežto v Javascriptu je odsazování dobrovolné a jeho hlavní důvod je čitelnost a zachování dobrého mentálního stavu vašeho učitele, **v Pythonu je odsazování povinné (!)** - Python totiž nepoužívá složené závorky pro označení, kde začíná a končí kód. Místo toho používá právě odsazení.\n",
    "\n",
    "## snake_case vs camelCase\n",
    "\n",
    "V Pythonu je standard používat tzv. snake_case po pojmenovávání víceslovných proměnných.\n",
    "\n",
    "Javascript\n",
    "\n",
    "```js\n",
    "let krestniJmeno = \"Kvído\"\n",
    "```\n",
    "\n",
    "Python"
   ]
  },
  {
   "cell_type": "code",
   "execution_count": 1,
   "metadata": {},
   "outputs": [],
   "source": [
    "krestni_jmeno = \"Kvído\""
   ]
  },
  {
   "cell_type": "markdown",
   "metadata": {},
   "source": [
    "## Komentáře\n",
    "\n",
    "Komentáře v Pythonu začínáme pomocí \"hashtagu\" `#`"
   ]
  },
  {
   "cell_type": "code",
   "execution_count": null,
   "metadata": {},
   "outputs": [],
   "source": [
    "# Toto je komentář"
   ]
  },
  {
   "cell_type": "markdown",
   "metadata": {},
   "source": [
    "## Obecné\n",
    "\n",
    "Místo `console.log()` používáme v Pythonu `print()`\n",
    "\n",
    "Javascript\n",
    "\n",
    "```js\n",
    "console.log(\"Ahoj\")\n",
    "```\n",
    "\n",
    "Python"
   ]
  },
  {
   "cell_type": "code",
   "execution_count": null,
   "metadata": {},
   "outputs": [],
   "source": [
    "print(\"Ahoj!\")"
   ]
  },
  {
   "cell_type": "markdown",
   "metadata": {},
   "source": [
    "Příkaz `input()` přijímá uživatelův input v příkazovém řádku. Input přijímá vždy `string`, který na `int` můžeme změnit pomocí funkce `int()`"
   ]
  },
  {
   "cell_type": "code",
   "execution_count": null,
   "metadata": {},
   "outputs": [],
   "source": [
    "print(\"Jak se jmenuješ? \")\n",
    "jmeno = input()\n",
    "# alternativně lze přeskočit první řádek a použít input(\"Jak se jmenuješ \")\n",
    "\n",
    "print(jmeno)"
   ]
  },
  {
   "cell_type": "code",
   "execution_count": null,
   "metadata": {},
   "outputs": [
    {
     "name": "stdout",
     "output_type": "stream",
     "text": [
      "Napiš číslo: \n"
     ]
    }
   ],
   "source": [
    "print(\"Napiš číslo: \")\n",
    "cislo = input()\n",
    "\n",
    "type(cislo) # funkce type vypíše datový typ proměnné\n",
    "\n",
    "cislo = int(cislo) # přepíšeme proměnou na integer\n",
    "\n",
    "type(cislo)"
   ]
  },
  {
   "cell_type": "markdown",
   "metadata": {},
   "source": [
    "## Vytváření proměnných\n",
    "\n",
    "Python nepoužívá žádné klíčové slovo jako `let`\n",
    "\n",
    "Javascript\n",
    "\n",
    "\n",
    "```js\n",
    "let text =\n",
    "    \"What  is the answer to the ultimate question of life, the universe, and everything\"\n",
    "let cislo = \"42\"\n",
    "```\n",
    "\n",
    "Python"
   ]
  },
  {
   "cell_type": "code",
   "execution_count": null,
   "metadata": {},
   "outputs": [],
   "source": [
    "text = \"What  is the answer to the ultimate question of life, the universe, and everything\"\n",
    "cislo = 42"
   ]
  },
  {
   "cell_type": "markdown",
   "metadata": {},
   "source": [
    "## Array vs List\n",
    "\n",
    "Místo názvue `array` používáme v Pythonu slovo `list`. Jinak se chovájí téměř totožně. Aneb array = list.\n",
    "\n",
    "## Podmínky\n",
    "\n",
    "Logika naprosto stejná jako v Javascriptu. V Pythonu ale nepoužíváme ani kulaté, ani složené závorky, místo toho používáme dvojtečku. Také zkracujeme `else if` na `elif`.\n",
    "\n",
    "Javascript\n",
    "\n",
    "```js\n",
    "let skore = window.prompt(\"Jaké je tvé skóre?\")\n",
    "\n",
    "if (skore === 90) {\n",
    "    znamka = \"Výborně\"\n",
    "} else if (skore === 80) {\n",
    "    znamka = \"Chvalitebně\"\n",
    "} else {\n",
    "    znamka = \"Nedostatečně\"\n",
    "}\n",
    "```\n",
    "\n",
    "Python"
   ]
  },
  {
   "cell_type": "code",
   "execution_count": null,
   "metadata": {},
   "outputs": [],
   "source": [
    "skore = int(input(\"Jaké je tvé skóre?\"))\n",
    "\n",
    "if skore == 90:\n",
    "  znamka = \"Výborně\"\n",
    "elif skore == 80:\n",
    "  znamka = \"Chvalitebně\"\n",
    "else:\n",
    "  znamka = \"Nedostatečně\"\n",
    "\n",
    "print(znamka)"
   ]
  },
  {
   "cell_type": "markdown",
   "metadata": {},
   "source": [
    "## Cyklus while\n",
    "\n",
    "Obdobně jako v podmínkách, také tady nepoužíváme závorky. Jinak je logika naprosto stejná.\n",
    "\n",
    "Javascript\n",
    "\n",
    "```js\n",
    "skore = praseInt(window.prompt(\"Jaké je tvé skóre?\"))\n",
    "while (skore > 60) {\n",
    "    console.log(\"Snaž se víc\")\n",
    "    skore = window.prompt(\"Jaké je tvé skóre?\")\n",
    "}\n",
    "```\n",
    "\n",
    "Python"
   ]
  },
  {
   "cell_type": "markdown",
   "metadata": {},
   "source": [
    "skore2 = int(input(\"Jaké je tvé skóre?\"))\n",
    "while skore2 < 60:\n",
    "  print(\"Snaž se víc\")\n",
    "  skore2 = int(input(\"Jaké je tvé skóre?\"))"
   ]
  },
  {
   "cell_type": "markdown",
   "metadata": {},
   "source": [
    "U nekonečného cyklu pozor, boolean `True` je v Pythonu s velkým písmenkem, tzn. `while True:`\n",
    "\n",
    "V Pythonu neexistuje `do while`\n",
    "\n",
    "## Cyklus for\n",
    "\n",
    "U cyklu for nalezneme největší rozdíl. V Pythonu zapisujeme cyklus for následujícím způsobem `for promenna in nejaky_seznam`\n",
    "\n",
    "Javascript\n",
    "\n",
    "```js\n",
    "// Vypsání čísel od 0-10\n",
    "for (let i = 0; i < 11; i++) {\n",
    "    console.log(i)\n",
    "}\n",
    "\n",
    "const seznam = [\"Kulík\", \"Dulík\", \"Bubík\"]\n",
    "\n",
    "// Vypsání seznamu\n",
    "for (let i = 0; i < seznam.length; i++) {\n",
    "    console.log(seznam[i])\n",
    "}\n",
    "```\n",
    "\n",
    "Python"
   ]
  },
  {
   "cell_type": "code",
   "execution_count": null,
   "metadata": {},
   "outputs": [],
   "source": [
    "# Vypsání čísel od 0-10\n",
    "for x in range(0, 11):\n",
    "  print(x)\n",
    "\n",
    "seznam = [\"Kulík\", \"Dulík\", \"Bubík\"]\n",
    "\n",
    "# Vypsání seznamu\n",
    "for jmeno in seznam:\n",
    "    print(jmeno)"
   ]
  },
  {
   "cell_type": "markdown",
   "metadata": {},
   "source": [
    "## Funkce\n",
    "\n",
    "V Pythonu používáme klíčové slovo `def` místo `function` známého z Javascriptu\n",
    "\n",
    "Javascript\n",
    "\n",
    "```js\n",
    "function pozdrav() {\n",
    "    console.log(\"Ahoj!\")\n",
    "}\n",
    "```\n",
    "\n",
    "Python"
   ]
  },
  {
   "cell_type": "code",
   "execution_count": null,
   "metadata": {},
   "outputs": [],
   "source": [
    "def pozdrav() {\n",
    "  print(\"Ahoj!\")\n",
    "}\n",
    "\n",
    "\n",
    "# funkci zavoláme stejným způsobem jako v Javascriptu\n",
    "pozdrav()"
   ]
  }
 ],
 "metadata": {
  "kernelspec": {
   "display_name": "Python 3",
   "language": "python",
   "name": "python3"
  },
  "language_info": {
   "codemirror_mode": {
    "name": "ipython",
    "version": 3
   },
   "file_extension": ".py",
   "mimetype": "text/x-python",
   "name": "python",
   "nbconvert_exporter": "python",
   "pygments_lexer": "ipython3",
   "version": "3.12.7"
  }
 },
 "nbformat": 4,
 "nbformat_minor": 2
}
